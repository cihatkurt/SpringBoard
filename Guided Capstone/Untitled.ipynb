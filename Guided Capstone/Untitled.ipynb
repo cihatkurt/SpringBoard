{
 "cells": [
  {
   "cell_type": "code",
   "execution_count": 6,
   "metadata": {},
   "outputs": [
    {
     "data": {
      "text/plain": [
       "1.0"
      ]
     },
     "execution_count": 6,
     "metadata": {},
     "output_type": "execute_result"
    }
   ],
   "source": [
    "import numpy as np\n",
    ">>> from sklearn.linear_model import LinearRegression\n",
    ">>> X = np.array([[1, 1], [1, 2], [2, 2], [2, 3]])\n",
    ">>> # y = 1 * x_0 + 2 * x_1 + 3\n",
    ">>> y = np.dot(X, np.array([1, 2])) + 10\n",
    ">>> reg = LinearRegression().fit(X, y)\n",
    ">>> reg.score(X, y)"
   ]
  },
  {
   "cell_type": "code",
   "execution_count": 3,
   "metadata": {},
   "outputs": [
    {
     "data": {
      "text/plain": [
       "8.5"
      ]
     },
     "execution_count": 3,
     "metadata": {},
     "output_type": "execute_result"
    }
   ],
   "source": [
    "df = pd.get_dummies(df0, columns=['state'])\n",
    "#df2 = pd.read_csv(f'{path}\\\\data\\\\step2_output.csv')\n",
    "df2 = pd.read_csv(f'{path}\\\\data\\\\step2_output.csv')\n",
    "# Since df contains clusters we need the cluster for df2\n",
    "from sklearn.cluster import KMeans\n",
    "cx = df2.drop(['Name','state', 'Region'], axis =1).values\n",
    "kmeans3 = KMeans(n_clusters=3)\n",
    "y_kmeans3 = kmeans3.fit_predict(cx)\n",
    "df2['clusters']=y_kmeans3\n",
    "\n",
    "# Create the dummy features for df2\n",
    "df2 = pd.get_dummies(df2, columns=['state'])\n",
    "\n",
    "df2 = df2[df2['Name'].str.contains('Whitefish Mountain Resort')]\n",
    "df2.drop(['base_elev', 'Region'], axis=1, inplace=True)\n",
    "df = df.append(df2, ignore_index=True)"
   ]
  },
  {
   "cell_type": "code",
   "execution_count": 7,
   "metadata": {},
   "outputs": [
    {
     "data": {
      "text/plain": [
       "10.000000000000002"
      ]
     },
     "execution_count": 7,
     "metadata": {},
     "output_type": "execute_result"
    }
   ],
   "source": [
    "reg.intercept_"
   ]
  }
 ],
 "metadata": {
  "kernelspec": {
   "display_name": "Python 3",
   "language": "python",
   "name": "python3"
  },
  "language_info": {
   "codemirror_mode": {
    "name": "ipython",
    "version": 3
   },
   "file_extension": ".py",
   "mimetype": "text/x-python",
   "name": "python",
   "nbconvert_exporter": "python",
   "pygments_lexer": "ipython3",
   "version": "3.7.4"
  }
 },
 "nbformat": 4,
 "nbformat_minor": 4
}
