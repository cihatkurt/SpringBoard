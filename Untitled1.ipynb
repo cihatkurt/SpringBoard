{
 "cells": [
  {
   "cell_type": "code",
   "execution_count": 1,
   "metadata": {},
   "outputs": [
    {
     "name": "stderr",
     "output_type": "stream",
     "text": [
      "2020-07-07 17:44:44,783 INFO Welcome to the CDS\n",
      "2020-07-07 17:44:44,786 INFO Sending request to https://cds.climate.copernicus.eu/api/v2/resources/sis-heat-and-cold-spells\n",
      "2020-07-07 17:44:45,851 INFO Request is completed\n",
      "2020-07-07 17:44:45,853 INFO Downloading http://136.156.132.198/cache-compute-0003/cache/data8/dataset-sis-heat-and-cold-spells-04987620-bc79-41d0-99d6-bd082729329a.zip to download.zip (81.4M)\n",
      "2020-07-07 17:48:33,232 INFO Download rate 366.7K/s                                                                    \n"
     ]
    },
    {
     "data": {
      "text/plain": [
       "Result(content_length=85375652,content_type=application/zip,location=http://136.156.132.198/cache-compute-0003/cache/data8/dataset-sis-heat-and-cold-spells-04987620-bc79-41d0-99d6-bd082729329a.zip)"
      ]
     },
     "execution_count": 1,
     "metadata": {},
     "output_type": "execute_result"
    }
   ],
   "source": [
    "import cdsapi\n",
    "\n",
    "c = cdsapi.Client()\n",
    "\n",
    "c.retrieve(\n",
    "    'sis-heat-and-cold-spells',\n",
    "    {\n",
    "        'variable': 'heat_wave_days',\n",
    "        'definition': 'climatological_related',\n",
    "        'experiment': 'rcp4_5',\n",
    "        'ensemble_statistics': [\n",
    "            'ensemble_members_average', 'ensemble_members_standard_deviation',\n",
    "        ],\n",
    "        'format': 'zip',\n",
    "    },\n",
    "    'download.zip')"
   ]
  },
  {
   "cell_type": "code",
   "execution_count": null,
   "metadata": {},
   "outputs": [],
   "source": []
  }
 ],
 "metadata": {
  "kernelspec": {
   "display_name": "Python 3",
   "language": "python",
   "name": "python3"
  },
  "language_info": {
   "codemirror_mode": {
    "name": "ipython",
    "version": 3
   },
   "file_extension": ".py",
   "mimetype": "text/x-python",
   "name": "python",
   "nbconvert_exporter": "python",
   "pygments_lexer": "ipython3",
   "version": "3.7.4"
  }
 },
 "nbformat": 4,
 "nbformat_minor": 4
}
