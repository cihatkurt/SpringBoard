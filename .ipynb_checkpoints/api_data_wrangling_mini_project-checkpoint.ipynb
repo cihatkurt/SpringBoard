{
 "cells": [
  {
   "cell_type": "markdown",
   "metadata": {},
   "source": [
    "This exercise will require you to pull some data from the Qunadl API. Qaundl is currently the most widely used aggregator of financial market data."
   ]
  },
  {
   "cell_type": "markdown",
   "metadata": {},
   "source": [
    "As a first step, you will need to register a free account on the http://www.quandl.com website."
   ]
  },
  {
   "cell_type": "markdown",
   "metadata": {},
   "source": [
    "After you register, you will be provided with a unique API key, that you should store:"
   ]
  },
  {
   "cell_type": "code",
   "execution_count": 1,
   "metadata": {},
   "outputs": [],
   "source": [
    "# Store the API key as a string - according to PEP8, constants are always named in all upper case\n",
    "API_KEY = 'APIKEY'"
   ]
  },
  {
   "cell_type": "markdown",
   "metadata": {},
   "source": [
    "Qaundl has a large number of data sources, but, unfortunately, most of them require a Premium subscription. Still, there are also a good number of free datasets."
   ]
  },
  {
   "cell_type": "markdown",
   "metadata": {},
   "source": [
    "For this mini project, we will focus on equities data from the Frankfurt Stock Exhange (FSE), which is available for free. We'll try and analyze the stock prices of a company called Carl Zeiss Meditec, which manufactures tools for eye examinations, as well as medical lasers for laser eye surgery: https://www.zeiss.com/meditec/int/home.html. The company is listed under the stock ticker AFX_X."
   ]
  },
  {
   "cell_type": "markdown",
   "metadata": {},
   "source": [
    "You can find the detailed Quandl API instructions here: https://docs.quandl.com/docs/time-series"
   ]
  },
  {
   "cell_type": "markdown",
   "metadata": {},
   "source": [
    "While there is a dedicated Python package for connecting to the Quandl API, we would prefer that you use the *requests* package, which can be easily downloaded using *pip* or *conda*. You can find the documentation for the package here: http://docs.python-requests.org/en/master/ "
   ]
  },
  {
   "cell_type": "markdown",
   "metadata": {},
   "source": [
    "Finally, apart from the *requests* package, you are encouraged to not use any third party Python packages, such as *pandas*, and instead focus on what's available in the Python Standard Library (the *collections* module might come in handy: https://pymotw.com/3/collections/ ).\n",
    "Also, since you won't have access to DataFrames, you are encouraged to us Python's native data structures - preferably dictionaries, though some questions can also be answered using lists.\n",
    "You can read more on these data structures here: https://docs.python.org/3/tutorial/datastructures.html"
   ]
  },
  {
   "cell_type": "markdown",
   "metadata": {},
   "source": [
    "Keep in mind that the JSON responses you will be getting from the API map almost one-to-one to Python's dictionaries. Unfortunately, they can be very nested, so make sure you read up on indexing dictionaries in the documentation provided above."
   ]
  },
  {
   "cell_type": "code",
   "execution_count": 2,
   "metadata": {},
   "outputs": [],
   "source": [
    "# First, import the relevant modules\n",
    "import requests as rq\n",
    "from collections import namedtuple, defaultdict\n",
    "\n",
    "from datetime import datetime"
   ]
  },
  {
   "cell_type": "code",
   "execution_count": 3,
   "metadata": {},
   "outputs": [],
   "source": [
    "# Now, call the Quandl API and pull out a small sample of the data (only one day) to get a glimpse\n",
    "# into the JSON structure that will be returned\n",
    "day_one_url = f\"https://www.quandl.com/api/v3/datasets/FSE/AFX_X.json?&start_date=2017-01-01&end_date=2017-01-02&api_key={API_KEY}\"\n",
    "req = rq.get(day_one_url)\n",
    "day_one_jsn = req.json()"
   ]
  },
  {
   "cell_type": "code",
   "execution_count": 4,
   "metadata": {},
   "outputs": [
    {
     "data": {
      "text/plain": [
       "{'dataset': {'id': 10095370,\n",
       "  'dataset_code': 'AFX_X',\n",
       "  'database_code': 'FSE',\n",
       "  'name': 'Carl Zeiss Meditec (AFX_X)',\n",
       "  'description': 'Stock Prices for Carl Zeiss Meditec (2020-06-26) from the Frankfurt Stock Exchange.<br><br>Trading System: Xetra<br><br>ISIN: DE0005313704',\n",
       "  'refreshed_at': '2020-07-10T22:16:32.795Z',\n",
       "  'newest_available_date': '2020-07-10',\n",
       "  'oldest_available_date': '2000-06-07',\n",
       "  'column_names': ['Date',\n",
       "   'Open',\n",
       "   'High',\n",
       "   'Low',\n",
       "   'Close',\n",
       "   'Change',\n",
       "   'Traded Volume',\n",
       "   'Turnover',\n",
       "   'Last Price of the Day',\n",
       "   'Daily Traded Units',\n",
       "   'Daily Turnover'],\n",
       "  'frequency': 'daily',\n",
       "  'type': 'Time Series',\n",
       "  'premium': False,\n",
       "  'limit': None,\n",
       "  'transform': None,\n",
       "  'column_index': None,\n",
       "  'start_date': '2017-01-01',\n",
       "  'end_date': '2017-01-02',\n",
       "  'data': [['2017-01-02',\n",
       "    34.99,\n",
       "    35.94,\n",
       "    34.99,\n",
       "    35.8,\n",
       "    None,\n",
       "    44700.0,\n",
       "    1590561.0,\n",
       "    None,\n",
       "    None,\n",
       "    None]],\n",
       "  'collapse': None,\n",
       "  'order': None,\n",
       "  'database_id': 6129}}"
      ]
     },
     "execution_count": 4,
     "metadata": {},
     "output_type": "execute_result"
    }
   ],
   "source": [
    "# Inspect the JSON structure of the object you created, and take note of how nested it is,\n",
    "# as well as the overall structure\n",
    "day_one_jsn"
   ]
  },
  {
   "cell_type": "markdown",
   "metadata": {},
   "source": [
    "These are your tasks for this mini project:\n",
    "\n",
    "1. Collect data from the Franfurt Stock Exchange, for the ticker AFX_X, for the whole year 2017 (keep in mind that the date format is YYYY-MM-DD).\n",
    "2. Convert the returned JSON object into a Python dictionary.\n",
    "3. Calculate what the highest and lowest opening prices were for the stock in this period.\n",
    "4. What was the largest change in any one day (based on High and Low price)?\n",
    "5. What was the largest change between any two days (based on Closing Price)?\n",
    "6. What was the average daily trading volume during this year?\n",
    "7. (Optional) What was the median trading volume during this year. (Note: you may need to implement your own function for calculating the median.)"
   ]
  },
  {
   "cell_type": "code",
   "execution_count": 5,
   "metadata": {},
   "outputs": [],
   "source": [
    "year_url = f\"https://www.quandl.com/api/v3/datasets/FSE/AFX_X.json?&start_date=2019-01-01&end_date=2019-12-31&api_key={API_KEY}\"\n",
    "req = rq.get(year_url)\n",
    "year = req.json()"
   ]
  },
  {
   "cell_type": "code",
   "execution_count": 6,
   "metadata": {},
   "outputs": [
    {
     "name": "stdout",
     "output_type": "stream",
     "text": [
      "The highest opening price: 116.4\n",
      "The lowest opening price: 83.8\n",
      "The largest change in a day was: 11.450000000000003\n",
      "The largest change between any two subsequent closings: 11.200000000000003\n",
      "The daily average of Traded Volums: 158423.75454545455\n",
      "The median of Traded Volums: 122785.5\n"
     ]
    }
   ],
   "source": [
    "year_dict = defaultdict(list)\n",
    "yrdct = {}\n",
    "clmn = year['dataset']['column_names']\n",
    "for dt in year['dataset']['data']:\n",
    "    #dt[0] = datetime.strptime(dt[0], '%Y-%m-%d')\n",
    "    a_day = tuple(zip(clmn, dt))\n",
    "    for _key, val in a_day:\n",
    "        #print(_key, val)\n",
    "        #if _key not in yrdct:\n",
    "        #    yrdct[_key] = []\n",
    "        #yrdct[_key].append(val)\n",
    "        year_dict[_key].append((val))\n",
    "    # Let's calculate the largest change in a day\n",
    "    year_dict['largest_change'].append(dt[2] - dt[3])\n",
    "clean_open = sorted([i for i in year_dict['Open'] if i]) # gets rid of Nones and sort it\n",
    "print(f'The highest opening price: {clean_open[-1]}')\n",
    "print(f'The lowest opening price: {clean_open[0]}')\n",
    "\n",
    "# Let's find the largest change in a day\n",
    "largest_change = sorted([i for i in year_dict['largest_change'] if i])\n",
    "print(f'The largest change in a day was: {largest_change[-1]}')\n",
    "\n",
    "# The largest change between any two subsequent closings\n",
    "Close = [i for i in year_dict['Close'] if i]\n",
    "two_day_change = []\n",
    "for i in range(len(Close)-1):\n",
    "    two_day_change.append(abs(Close[i+1] - Close[i]))\n",
    "\n",
    "two_day_change = sorted(two_day_change)\n",
    "print(f'The largest change between any two subsequent closings: {two_day_change[-1]}')\n",
    "\n",
    "# Average daily traded value\n",
    "Traded_Vol = [i for i in year_dict['Traded Volume'] if i]\n",
    "# we can't even use numpy since its not in standart lib. So we need to \n",
    "# do manual average'\n",
    "k = 0\n",
    "for val in Traded_Vol:\n",
    "    k+=val\n",
    "mean_trad_vol = k/(len(Traded_Vol))\n",
    "print(f'The daily average of Traded Volums: {mean_trad_vol}')\n",
    "\n",
    "# the median\n",
    "Traded_Vol = sorted(Traded_Vol)\n",
    "median_index = int(len(Traded_Vol)/2)\n",
    "Traded_median = (Traded_Vol[median_index] + Traded_Vol[median_index +1])/2\n",
    "print(f'The median of Traded Volums: {Traded_median}')"
   ]
  }
 ],
 "metadata": {
  "kernelspec": {
   "display_name": "Python 3",
   "language": "python",
   "name": "python3"
  },
  "language_info": {
   "codemirror_mode": {
    "name": "ipython",
    "version": 3
   },
   "file_extension": ".py",
   "mimetype": "text/x-python",
   "name": "python",
   "nbconvert_exporter": "python",
   "pygments_lexer": "ipython3",
   "version": "3.7.4"
  }
 },
 "nbformat": 4,
 "nbformat_minor": 4
}
