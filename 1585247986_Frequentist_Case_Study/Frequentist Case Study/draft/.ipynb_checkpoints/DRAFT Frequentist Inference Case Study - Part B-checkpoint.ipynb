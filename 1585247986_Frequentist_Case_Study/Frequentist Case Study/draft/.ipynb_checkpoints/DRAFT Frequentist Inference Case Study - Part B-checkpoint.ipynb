{
 "cells": [
  {
   "cell_type": "markdown",
   "metadata": {},
   "source": [
    "# Frequentist Inference Case Study - Part B"
   ]
  },
  {
   "cell_type": "markdown",
   "metadata": {},
   "source": [
    "## Learning objectives"
   ]
  },
  {
   "cell_type": "markdown",
   "metadata": {},
   "source": [
    "Welcome to Part B of the Frequentist inference case study! The purpose of this case study is to help you apply the concepts associated with Frequentist inference in Python. In particular, you'll practice writing Python code to apply the following statistical concepts: \n",
    "* the _z_-statistic\n",
    "* the _t_-statistic\n",
    "* the difference and relationship between the two\n",
    "* the Central Limit Theorem, including its assumptions and consequences\n",
    "* how to estimate the population mean and standard deviation from a sample\n",
    "* the concept of a sampling distribution of a test statistic, particularly for the mean\n",
    "* how to combine these concepts to calculate a confidence interval"
   ]
  },
  {
   "cell_type": "markdown",
   "metadata": {},
   "source": [
    "In the previous notebook, we used only data from a known normal distribution. **You'll now tackle real data, rather than simulated data, and answer some relevant real-world business problems using the data.**"
   ]
  },
  {
   "cell_type": "markdown",
   "metadata": {},
   "source": [
    "## Hospital medical charges"
   ]
  },
  {
   "cell_type": "markdown",
   "metadata": {},
   "source": [
    "Imagine that a hospital has hired you as their data scientist. An administrator is working on the hospital's business operations plan and needs you to help them answer some business questions. \n",
    "\n",
    "In this assignment notebook, you're going to use frequentist statistical inference on a data sample to answer the questions:\n",
    "* __has the hospital's revenue stream fallen below a key threshold?__\n",
    "* __are patients with insurance really charged different amounts than those without?__\n",
    "\n",
    "Answering that last question with a frequentist approach makes some assumptions, and requires some knowledge, about the two groups."
   ]
  },
  {
   "cell_type": "markdown",
   "metadata": {},
   "source": [
    "We are going to use some data on medical charges obtained from [Kaggle](https://www.kaggle.com/easonlai/sample-insurance-claim-prediction-dataset). \n",
    "\n",
    "For the purposes of this exercise, assume the observations are the result of random sampling from our single hospital. Recall that in the previous assignment, we introduced the Central Limit Theorem (CLT), and its consequence that the distributions of sample statistics approach a normal distribution as $n$ increases. The amazing thing about this is that it applies to the sampling distributions of statistics that have been calculated from even highly non-normal distributions of data! Recall, also, that hypothesis testing is very much based on making inferences about such sample statistics. You're going to rely heavily on the CLT to apply frequentist (parametric) tests to answer the questions in this notebook."
   ]
  },
  {
   "cell_type": "code",
   "execution_count": 4,
   "metadata": {},
   "outputs": [],
   "source": [
    "import pandas as pd\n",
    "import numpy as np\n",
    "import matplotlib.pyplot as plt\n",
    "from scipy.stats import t\n",
    "import scipy.stats as st\n",
    "from numpy.random import seed\n",
    "medical = pd.read_csv('../data/insurance2.csv')"
   ]
  },
  {
   "cell_type": "code",
   "execution_count": 5,
   "metadata": {},
   "outputs": [
    {
     "data": {
      "text/plain": [
       "(1338, 8)"
      ]
     },
     "execution_count": 5,
     "metadata": {},
     "output_type": "execute_result"
    }
   ],
   "source": [
    "medical.shape"
   ]
  },
  {
   "cell_type": "code",
   "execution_count": 64,
   "metadata": {},
   "outputs": [
    {
     "data": {
      "text/html": [
       "<div>\n",
       "<style scoped>\n",
       "    .dataframe tbody tr th:only-of-type {\n",
       "        vertical-align: middle;\n",
       "    }\n",
       "\n",
       "    .dataframe tbody tr th {\n",
       "        vertical-align: top;\n",
       "    }\n",
       "\n",
       "    .dataframe thead th {\n",
       "        text-align: right;\n",
       "    }\n",
       "</style>\n",
       "<table border=\"1\" class=\"dataframe\">\n",
       "  <thead>\n",
       "    <tr style=\"text-align: right;\">\n",
       "      <th></th>\n",
       "      <th>age</th>\n",
       "      <th>sex</th>\n",
       "      <th>bmi</th>\n",
       "      <th>children</th>\n",
       "      <th>smoker</th>\n",
       "      <th>region</th>\n",
       "      <th>charges</th>\n",
       "      <th>insuranceclaim</th>\n",
       "    </tr>\n",
       "  </thead>\n",
       "  <tbody>\n",
       "    <tr>\n",
       "      <th>0</th>\n",
       "      <td>19</td>\n",
       "      <td>0</td>\n",
       "      <td>27.900</td>\n",
       "      <td>0</td>\n",
       "      <td>1</td>\n",
       "      <td>3</td>\n",
       "      <td>16884.92400</td>\n",
       "      <td>1</td>\n",
       "    </tr>\n",
       "    <tr>\n",
       "      <th>1</th>\n",
       "      <td>18</td>\n",
       "      <td>1</td>\n",
       "      <td>33.770</td>\n",
       "      <td>1</td>\n",
       "      <td>0</td>\n",
       "      <td>2</td>\n",
       "      <td>1725.55230</td>\n",
       "      <td>1</td>\n",
       "    </tr>\n",
       "    <tr>\n",
       "      <th>2</th>\n",
       "      <td>28</td>\n",
       "      <td>1</td>\n",
       "      <td>33.000</td>\n",
       "      <td>3</td>\n",
       "      <td>0</td>\n",
       "      <td>2</td>\n",
       "      <td>4449.46200</td>\n",
       "      <td>0</td>\n",
       "    </tr>\n",
       "    <tr>\n",
       "      <th>3</th>\n",
       "      <td>33</td>\n",
       "      <td>1</td>\n",
       "      <td>22.705</td>\n",
       "      <td>0</td>\n",
       "      <td>0</td>\n",
       "      <td>1</td>\n",
       "      <td>21984.47061</td>\n",
       "      <td>0</td>\n",
       "    </tr>\n",
       "    <tr>\n",
       "      <th>4</th>\n",
       "      <td>32</td>\n",
       "      <td>1</td>\n",
       "      <td>28.880</td>\n",
       "      <td>0</td>\n",
       "      <td>0</td>\n",
       "      <td>1</td>\n",
       "      <td>3866.85520</td>\n",
       "      <td>1</td>\n",
       "    </tr>\n",
       "  </tbody>\n",
       "</table>\n",
       "</div>"
      ],
      "text/plain": [
       "   age  sex     bmi  children  smoker  region      charges  insuranceclaim\n",
       "0   19    0  27.900         0       1       3  16884.92400               1\n",
       "1   18    1  33.770         1       0       2   1725.55230               1\n",
       "2   28    1  33.000         3       0       2   4449.46200               0\n",
       "3   33    1  22.705         0       0       1  21984.47061               0\n",
       "4   32    1  28.880         0       0       1   3866.85520               1"
      ]
     },
     "execution_count": 64,
     "metadata": {},
     "output_type": "execute_result"
    }
   ],
   "source": [
    "medical.head()"
   ]
  },
  {
   "cell_type": "markdown",
   "metadata": {},
   "source": [
    "__Q1:__ Plot the histogram of charges and calculate the mean and standard deviation. Comment on the appropriateness of these statistics for the data."
   ]
  },
  {
   "cell_type": "markdown",
   "metadata": {},
   "source": [
    "__A:__"
   ]
  },
  {
   "cell_type": "code",
   "execution_count": 6,
   "metadata": {},
   "outputs": [
    {
     "data": {
      "image/png": "[encoded data removed]",
      "text/plain": [
       "<Figure size 432x288 with 1 Axes>"
      ]
     },
     "metadata": {},
     "output_type": "display_data"
    }
   ],
   "source": [
    "def plot_stat(dt):\n",
    "    mean = np.mean(dt)\n",
    "    std = np.std(dt, ddof=1)\n",
    "    median = np.median(dt)\n",
    "    plt.style.use('ggplot')\n",
    "    _ = plt.hist(dt,bins=20, density = True )\n",
    "    _ = plt.axvline(mean, c='b', linestyle='--',label='mean')\n",
    "    _ = plt.axvline(median,c='black', linestyle='--',label='median')\n",
    "    _ = plt.legend()\n",
    "    # _ = plt.annotate('mean',(mean_chrg,))\n",
    "    # _ = plt.annotate('median',(median_chrg*0.15,2e-5))\n",
    "    return mean, std, median\n",
    "mean, std, median = plot_stat(medical.charges)\n",
    "_ = plt.axvline(12000, c='C1')"
   ]
  },
  {
   "cell_type": "code",
   "execution_count": 149,
   "metadata": {},
   "outputs": [
    {
     "name": "stdout",
     "output_type": "stream",
     "text": [
      " Mean  | Median | Std\n",
      " 13270 | 9382   | 12110\n",
      "std/mean ratio: 0.91\n"
     ]
    }
   ],
   "source": [
    "print(' Mean  | Median | Std' )\n",
    "print(f' {round(mean)} | {round(median)}   | {round(std)}')\n",
    "print(f'std/mean ratio: {round(std_chrg/mean_chrg,2)}')"
   ]
  },
  {
   "cell_type": "markdown",
   "metadata": {},
   "source": [
    "Sample data is strongly right skewed. This means assuming normal distribution would not be appropriate to calculate confidence intervals. Also the standard deviation of the sample is a little too large comparing to the mean. In other words, data is a bit too spread. This creats a challenge when we test if the average charges has changed or not since our confidence interval will be too large.  "
   ]
  },
  {
   "cell_type": "markdown",
   "metadata": {},
   "source": [
    "__Q2:__ The administrator is concerned that the actual average charge has fallen below 12,000, threatening the hospital's operational model. On the assumption that these data represent a random sample of charges, how would you justify that these data allow you to answer that question? And what would be the most appropriate frequentist test, of the ones discussed so far, to apply?"
   ]
  },
  {
   "cell_type": "markdown",
   "metadata": {},
   "source": [
    "We need to make a **t-test** to calculate confidence interval and hypothesis test since the data is not normal. If the 12,000 threshold is below the 5% confidence level then we can reject to null."
   ]
  },
  {
   "cell_type": "markdown",
   "metadata": {},
   "source": [
    "__Q3:__ Given the nature of the administrator's concern, what is the appropriate confidence interval in this case? A ***one-sided*** or ***two-sided*** interval? (Refresh your understanding of this concept on p. 399 of the *AoS*). Calculate the critical value and the relevant 95% confidence interval for the mean, and comment on whether the administrator should be concerned."
   ]
  },
  {
   "cell_type": "markdown",
   "metadata": {},
   "source": [
    "__A:__ WE need to make a one sided hypothesis test because the administor is concerned about the charges has fallen below 12,000. In that case **the null hypothesis**: mean >= 12,000 \n",
    "**The Alternative:** mean < 12,000"
   ]
  },
  {
   "cell_type": "code",
   "execution_count": 74,
   "metadata": {},
   "outputs": [
    {
     "name": "stdout",
     "output_type": "stream",
     "text": [
      "Critical Value is 1.6459941145571317\n",
      "Margin of Error: 544.9350813250251\n",
      "\n",
      "95% CI\n",
      "12725.48718381623 13815.357346466282\n",
      "\n",
      "99% CI\n"
     ]
    },
    {
     "data": {
      "text/plain": [
       "(12499.319744360895, 14041.524785921618)"
      ]
     },
     "execution_count": 74,
     "metadata": {},
     "output_type": "execute_result"
    }
   ],
   "source": [
    "# From manually calculating margin of error\n",
    "n= len(medical)\n",
    "c_val95 = t.ppf(0.95,n -1) # since this is one sided test\n",
    "c_val99 = t.ppf(0.99,n -1)\n",
    "print(f'Critical Value is {c_val95}')\n",
    "MofErr95 = c_val95*std/np.sqrt(n)\n",
    "MofErr99 = c_val99*std/np.sqrt(n)\n",
    "print(f'Margin of Error: {MofErr95}')\n",
    "print('\\n95% CI')\n",
    "print(mean - MofErr95, mean + MofErr95)\n",
    "print('\\n99% CI')\n",
    "mean - MofErr99, mean + MofErr99"
   ]
  },
  {
   "cell_type": "code",
   "execution_count": 83,
   "metadata": {},
   "outputs": [
    {
     "data": {
      "text/plain": [
       "(12725.48718381623, 13815.357346466282)"
      ]
     },
     "execution_count": 83,
     "metadata": {},
     "output_type": "execute_result"
    }
   ],
   "source": [
    "st.t.interval(alpha=0.90, df=len(medical)-1, loc=mean, scale=st.sem(medical.charges))"
   ]
  },
  {
   "cell_type": "markdown",
   "metadata": {},
   "source": [
    "**There should be no concern that the mean has fallen below 12,000 within 99% confidence.**"
   ]
  },
  {
   "cell_type": "markdown",
   "metadata": {},
   "source": [
    "The administrator then wants to know whether people with insurance really are charged a different amount to those without.\n",
    "\n",
    "__Q4:__ State the null and alternative hypothesis here. Use the _t_-test for the difference between means, where the pooled standard deviation of the two groups is given by:\n",
    "\\begin{equation}\n",
    "s_p = \\sqrt{\\frac{(n_0 - 1)s^2_0 + (n_1 - 1)s^2_1}{n_0 + n_1 - 2}}\n",
    "\\end{equation}\n",
    "\n",
    "and the *t*-test statistic is then given by:\n",
    "\n",
    "\\begin{equation}\n",
    "t = \\frac{\\bar{x}_0 - \\bar{x}_1}{s_p \\sqrt{1/n_0 + 1/n_1}}.\n",
    "\\end{equation}\n",
    "\n",
    "(If you need some reminding of the general definition of ***t-statistic***, check out the definition on p. 404 of *AoS*). \n",
    "\n",
    "What assumption about the variances of the two groups are we making here?"
   ]
  },
  {
   "cell_type": "markdown",
   "metadata": {},
   "source": [
    "__A:__ \n",
    "\n",
    "**Null Hypothesis:**  $ \\mu_1 - \\mu_0 = 0$\n",
    "\n",
    "**Alternative:**  $ \\mu_1 - \\mu_0 \\neq 0$\n",
    "\n",
    "*We assume that the two groups have the same variance*"
   ]
  },
  {
   "cell_type": "markdown",
   "metadata": {},
   "source": [
    "__Q5:__ Perform this hypothesis test both manually, using the above formulae, and then using the appropriate function from [scipy.stats](https://docs.scipy.org/doc/scipy/reference/stats.html#statistical-tests) (hint, you're looking for a function to perform a _t_-test on two independent samples). For the manual approach, calculate the value of the test statistic and then its probability (the p-value). Verify you get the same results from both."
   ]
  },
  {
   "cell_type": "markdown",
   "metadata": {},
   "source": [
    "__A:__ "
   ]
  },
  {
   "cell_type": "code",
   "execution_count": 121,
   "metadata": {},
   "outputs": [
    {
     "name": "stdout",
     "output_type": "stream",
     "text": [
      "m0 = 8821\n",
      "s0 = 6447\n",
      "n0 = 555\n",
      "m1 = 16424\n",
      "s1 = 14046\n",
      "n1 = 783\n"
     ]
    }
   ],
   "source": [
    "# To prevent accidently mixing sample parameters \n",
    "# of each group keep all parameters in dictionaries \n",
    "def insurence_stats(ins):\n",
    "    \n",
    "    insurence_status = medical.query(f'insuranceclaim == {ins}').charges\n",
    "    m = np.mean(insurence_status)\n",
    "    s = np.std(insurence_status, ddof=1)\n",
    "    n = len(insurence_status)\n",
    "    return {'m':m, 's':s, 'n':n}\n",
    "insured = insurence_stats(1)\n",
    "uninsured = insurence_stats(0)\n",
    "\n",
    "# Let's print the mean and std of each group and\n",
    "# assign m0,std0 to uninsured and m1,std1 to insured to have better readibility\n",
    "for i,dt in enumerate((uninsured, insured)):\n",
    "    for param in ['m', 's', 'n']:\n",
    "        vars()[f'{param}{i}'] = dt[param]\n",
    "        print(f'{param}{i} = {round(dt[param])}')# {round(eval(f\"{param}{i}\"))} also works though not so readable"
   ]
  },
  {
   "cell_type": "code",
   "execution_count": 122,
   "metadata": {},
   "outputs": [],
   "source": [
    "sp = np.sqrt(((n0 - 1)*(s0**2) + (n1 - 1)*(s1**2))/(n0+n1-2))"
   ]
  },
  {
   "cell_type": "code",
   "execution_count": 144,
   "metadata": {},
   "outputs": [
    {
     "data": {
      "text/plain": [
       "0.0"
      ]
     },
     "execution_count": 144,
     "metadata": {},
     "output_type": "execute_result"
    }
   ],
   "source": [
    "t_val = (m1 - m0)/(sp*np.sqrt(1/n0 + 1/n1))\n",
    "1-t.cdf(t_val, df=n0+n1-2) # 0 for numbers too small (<10e-16)"
   ]
  },
  {
   "cell_type": "code",
   "execution_count": 145,
   "metadata": {},
   "outputs": [
    {
     "name": "stdout",
     "output_type": "stream",
     "text": [
      "t: 11.89329903087671 p: 4.461230231620972e-31\n"
     ]
    }
   ],
   "source": [
    "# Alternative way to calculate p-value from students t-test\n",
    "p_val = 2*t.sf(abs(t_val), df=n0+n1-2) # \"2*\", because t.sf is for left or right tailed test\n",
    "print('t:', t_val, 'p:', p_val)"
   ]
  },
  {
   "cell_type": "code",
   "execution_count": 108,
   "metadata": {},
   "outputs": [
    {
     "name": "stdout",
     "output_type": "stream",
     "text": [
      "t: 11.893299030876712 p: 4.461230231620717e-31\n"
     ]
    }
   ],
   "source": [
    "insured_chg = medical.query(f'insuranceclaim == {1}').charges\n",
    "uninsured_chg = medical.query(f'insuranceclaim == {0}').charges\n",
    "t_value, p_value = st.ttest_ind(insured_chg, uninsured_chg, equal_var=True)\n",
    "print('t:', t_value, 'p:', p_value)"
   ]
  },
  {
   "cell_type": "markdown",
   "metadata": {},
   "source": [
    "Congratulations! Hopefully you got the exact same numerical results. This shows that you correctly calculated the numbers by hand. Secondly, you used the correct function and saw that it's much easier to use. All you need to do is pass your data to it."
   ]
  },
  {
   "cell_type": "markdown",
   "metadata": {},
   "source": [
    "__Q6:__ Conceptual question: look through the documentation for statistical test functions in scipy.stats. You'll see the above _t_-test for a sample, but can you see an equivalent one for performing a *z*-test from a sample? Comment on your answer."
   ]
  },
  {
   "cell_type": "markdown",
   "metadata": {},
   "source": [
    "__A:__"
   ]
  },
  {
   "cell_type": "markdown",
   "metadata": {},
   "source": [
    "## Learning outcomes"
   ]
  },
  {
   "cell_type": "markdown",
   "metadata": {},
   "source": [
    "Having completed this project notebook, you now have good hands-on experience:\n",
    "* using the central limit theorem to help you apply frequentist techniques to answer questions that pertain to very non-normally distributed data from the real world\n",
    "* performing inference using such data to answer business questions\n",
    "* forming a hypothesis and framing the null and alternative hypotheses\n",
    "* testing this using a _t_-test"
   ]
  },
  {
   "cell_type": "markdown",
   "metadata": {},
   "source": [
    "### Aside Bootstrap Dist. From the medical cahrges data as a practice"
   ]
  },
  {
   "cell_type": "code",
   "execution_count": 1,
   "metadata": {},
   "outputs": [],
   "source": [
    "def sampling(n=50):\n",
    "    return np.random.choice(medical.charges, n)\n",
    "def sampling_dist(k, n=50):\n",
    "    samples = []\n",
    "    for i in range(k):\n",
    "        samples.append(np.mean(sampling(n)))\n",
    "    return pd.Series(samples)"
   ]
  },
  {
   "cell_type": "code",
   "execution_count": 7,
   "metadata": {},
   "outputs": [
    {
     "name": "stdout",
     "output_type": "stream",
     "text": [
      "mean: 13264.8640908186\n",
      " std: 1736.016801210443\n",
      " median: 13194.7635347\n"
     ]
    },
    {
     "data": {
      "image/png": "[encoded data removed]",
      "text/plain": [
       "<Figure size 432x288 with 1 Axes>"
      ]
     },
     "metadata": {},
     "output_type": "display_data"
    }
   ],
   "source": [
    "sample_dist = sampling_dist(10000)\n",
    "_mean, _std, _median = plot_stat(sample_dist)\n",
    "_ = plt.axvline(_mean+_std, c='g', linestyle=\"--\",label='$\\sigma$')\n",
    "_ = plt.axvline(_mean-_std, c='g', linestyle=\"--\")\n",
    "_ = plt.axvline(_mean+1.96*_std, c='y', linestyle=\"--\",label='$2\\sigma$')\n",
    "_ = plt.axvline(_mean-1.96*_std, c='y', linestyle=\"--\")\n",
    "_ = plt.legend()\n",
    "print(f'mean: {_mean}\\n std: {_std}\\n median: {_median}')"
   ]
  },
  {
   "cell_type": "markdown",
   "metadata": {},
   "source": [
    "#### When and how we use sampling dist. of mean. as I did above: \n",
    "\n",
    "The sampling dist. provide a good estimate for the population or whatever the samples are drawn from. For example in the above example samples are drawn from another sample that was just a single sampling of the population. Therefore, the mean of the sampling dist. will be close to the mean and the std will be std/sqrt(n) of medical.charges which is itself a sample. Therefore the sampling distribution here would not help us answer any question about the population. In conlcusion we can only use t dist. to calculate confidence interval and estimates of population mean and std. when we have a sample. \n",
    "\n",
    "When surveying an entire population is difficult, we can draw n numbers of sample times k times. Then we can create the sampling distribution of population parameters as a better estimate than a single sample. That's how we use sampling dist. "
   ]
  }
 ],
 "metadata": {
  "kernelspec": {
   "display_name": "Python 3",
   "language": "python",
   "name": "python3"
  },
  "language_info": {
   "codemirror_mode": {
    "name": "ipython",
    "version": 3
   },
   "file_extension": ".py",
   "mimetype": "text/x-python",
   "name": "python",
   "nbconvert_exporter": "python",
   "pygments_lexer": "ipython3",
   "version": "3.7.4"
  }
 },
 "nbformat": 4,
 "nbformat_minor": 4
}
